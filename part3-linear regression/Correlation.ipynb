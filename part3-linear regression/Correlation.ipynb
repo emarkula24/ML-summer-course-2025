{
 "cells": [
  {
   "cell_type": "markdown",
   "metadata": {},
   "source": [
    "# Understanding Correlation\n",
    "\n",
    "Correlation is a statistical measure that quantifies the degree to which two variables are related to each other. It is essential for understanding how one variable behaves in relation to another.\n",
    "\n",
    "## Basic Statistical Concepts\n",
    "\n",
    "### Mean\n",
    "\n",
    "The mean (average) of a dataset is the sum of all the values divided by the number of values. For a set of values $x_1, x_2, \\ldots, x_n$, the mean $\\bar{x}$ is given by:\n",
    "\n",
    "$$\n",
    "\\bar{x} = \\frac{\\sum_{i=1}^{n} x_i}{n}\n",
    "$$\n",
    "\n",
    "### Standard Deviation\n",
    "Standard deviation is a measure of the dispersion or spread of a set of data points around the mean. It is calculated as the square root of the variance. The standard deviation $\\sigma$ is:\n",
    "$$\n",
    "\\sigma = \\sqrt{\\frac{\\sum_{i=1}^{n} (x_i - \\bar{x})^2}{n}}\n",
    "$$\n",
    "\n",
    "## Covariance\n",
    "Covariance measures the joint variability of two random variables. If $X$ and $Y$ are two variables, their covariance is calculated as:\n",
    "$$\n",
    "\\text{Cov}(X, Y) = \\frac{\\sum_{i=1}^{n} (x_i - \\bar{X})(y_i - \\bar{Y})}{n}\n",
    "$$\n",
    "\n",
    "## Correlation Coefficients\n",
    "\n",
    "### Pearson Correlation Coefficient\n",
    "The Pearson correlation coefficient normalizes the covariance by the product of the standard deviations of the variables, thus providing a dimensionless measure of linear relationship. It is given by:\n",
    "$$\n",
    "r = \\frac{\\text{Cov}(X, Y)}{\\sigma_X \\sigma_Y}\n",
    "$$\n",
    "\n",
    "## Practical Example\n",
    "\n",
    "### Example Dataset\n",
    "Consider the following dataset of heights (cm) and weights (kg) of individuals:\n",
    "\n",
    "| Person | Height (cm) | Weight (kg) |\n",
    "|--------|-------------|-------------|\n",
    "| 1      | 170         | 65          |\n",
    "| 2      | 180         | 80          |\n",
    "| 3      | 160         | 60          |\n",
    "| 4      | 175         | 75          |\n",
    "| 5      | 165         | 68          |\n",
    "\n",
    "## Calculation\n",
    "\n",
    "For the given dataset, the mean, standard deviation, and covariance of heights and weights are calculated as follows:\n",
    "\n",
    "### Mean of Heights: \n",
    "Mean height $\\bar{X}_{\\text{height}}$ is calculated as:\n",
    "\n",
    "$$\n",
    "\\bar{X}_{\\text{height}} = \\frac{170 + 180 + 160 + 175 + 165}{5} = 170\\,\\text{cm}\n",
    "$$\n",
    "\n",
    "### Mean of Weights:\n",
    "Mean weight $\\bar{Y}_{\\text{weight}}$ is calculated as:\n",
    "\n",
    "$$\n",
    "\\bar{Y}_{\\text{weight}} = \\frac{65 + 80 + 60 + 75 + 68}{5} = 69.6\\,\\text{kg}\n",
    "$$\n",
    "\n",
    "### Standard Deviation of Heights:\n",
    "Standard deviation of heights $\\sigma_{X_{\\text{height}}}$ is calculated as:\n",
    "$$\n",
    "\\sigma_{X_{\\text{height}}} = \\sqrt{\\frac{(170-170)^2 + (180-170)^2 + (160-170)^2 + (175-170)^2 + (165-170)^2}{5}} \\approx 7.07\\,\\text{cm}\n",
    "$$\n",
    "\n",
    "### Standard Deviation of Weights:\n",
    "Standard deviation of weights $\\sigma_{Y_{\\text{weight}}}$ is calculated as:\n",
    "$$\n",
    "\\sigma_{Y_{\\text{weight}}} = \\sqrt{\\frac{(65-69.6)^2 + (80-69.6)^2 + (60-69.6)^2 + (75-69.6)^2 + (68-69.6)^2}{5}} \\approx 7.12\\,\\text{kg}\n",
    "$$\n",
    "\n",
    "### Covariance between Heights and Weights:\n",
    "The covariance between heights and weights $\\text{Cov}(X, Y)$ is calculated as:\n",
    "$$\n",
    "\\begin{aligned}\n",
    "\\text{Cov}(X, Y) = &\\frac{1}{5} [(170-170)(65-69.6) + (180-170)(80-69.6) + \\\\\n",
    "&(160-170)(60-69.6) + (175-170)(75-69.6) + (165-170)(68-69.6)] \\approx 47\n",
    "\\end{aligned}\n",
    "$$\n",
    "\n",
    "\n",
    "### Pearson Correlation Coefficient:\n",
    "Finally, the Pearson correlation coefficient $r$ is calculated as:\n",
    "$$\n",
    "r = \\frac{\\text{Cov}(X, Y)}{\\sigma_{X_{\\text{height}}} \\times \\sigma_{Y_{\\text{weight}}}} \\approx \\frac{47}{7.07 \\times 7.12} \\approx 0.93\n",
    "$$\n",
    "\n",
    "This value of 0.93 indicates a strong positive linear relationship between height and weight in this dataset.\n",
    "\n"
   ]
  },
  {
   "cell_type": "code",
   "execution_count": 1,
   "metadata": {},
   "outputs": [],
   "source": [
    "import numpy as np\n",
    "\n",
    "# Data for heights (in cm) and weights (in kg)\n",
    "heights = np.array([170, 180, 160, 175, 165])\n",
    "weights = np.array([65, 80, 60, 75, 68])\n"
   ]
  },
  {
   "cell_type": "code",
   "execution_count": 2,
   "metadata": {},
   "outputs": [],
   "source": [
    "# Calculating means\n",
    "mean_height = np.mean(heights)\n",
    "mean_weight = np.mean(weights)\n",
    "\n",
    "# Calculating standard deviations\n",
    "std_dev_height = np.std(heights, ddof=0)\n",
    "std_dev_weight = np.std(weights, ddof=0)"
   ]
  },
  {
   "cell_type": "markdown",
   "metadata": {},
   "source": [
    "The `ddof` parameter in the `np.std` function call in NumPy stands for \"Delta Degrees of Freedom.\" It affects the divisor used in the calculation of the standard deviation.\n",
    "\n",
    "In the code:\n",
    "\n",
    "- `std_dev_height = np.std(heights, ddof=0)`\n",
    "- `std_dev_weight = np.std(weights, ddof=0)`\n",
    "\n",
    "we are using `ddof=0`. This has specific implications:\n",
    "\n",
    "- When `ddof=0` (the default), the standard deviation is calculated by dividing by `n`, the number of observations. This approach is typically used when calculating the standard deviation of a full population.\n",
    "\n",
    "- When `ddof=1`, the divisor becomes `n-1`. This adjustment is used when calculating the standard deviation of a sample. It provides an unbiased estimator of the population standard deviation if the data points are a sample from a larger population. The use of `n-1` as the denominator corrects for the bias in estimating a population parameter from a sample.\n",
    "\n",
    "In the context of this code, setting `ddof=0` implies that the data represents the entire population, and the standard deviation is calculated with this assumption in mind. If the data were a sample from a larger population, and the goal was to estimate the population standard deviation from this sample, you would use `ddof=1`.\n"
   ]
  },
  {
   "cell_type": "code",
   "execution_count": 3,
   "metadata": {},
   "outputs": [
    {
     "data": {
      "text/plain": [
       "(170.0, 69.6, 7.0710678118654755, 7.116178749862878, 47.0, 0.9340411443826679)"
      ]
     },
     "execution_count": 3,
     "metadata": {},
     "output_type": "execute_result"
    }
   ],
   "source": [
    "# Calculating covariance\n",
    "covariance = np.cov(heights, weights, ddof=0)[0, 1]\n",
    "\n",
    "# Calculating Pearson correlation coefficient\n",
    "correlation_coefficient = covariance / (std_dev_height * std_dev_weight)\n",
    "\n",
    "(mean_height, mean_weight, std_dev_height, std_dev_weight, covariance, correlation_coefficient)"
   ]
  }
 ],
 "metadata": {
  "kernelspec": {
   "display_name": "Python 3",
   "language": "python",
   "name": "python3"
  },
  "language_info": {
   "codemirror_mode": {
    "name": "ipython",
    "version": 3
   },
   "file_extension": ".py",
   "mimetype": "text/x-python",
   "name": "python",
   "nbconvert_exporter": "python",
   "pygments_lexer": "ipython3",
   "version": "3.12.0"
  }
 },
 "nbformat": 4,
 "nbformat_minor": 2
}
